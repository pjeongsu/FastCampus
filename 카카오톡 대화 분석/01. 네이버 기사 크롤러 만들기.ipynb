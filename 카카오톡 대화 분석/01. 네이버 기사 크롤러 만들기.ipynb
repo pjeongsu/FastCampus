{
 "cells": [
  {
   "cell_type": "markdown",
   "metadata": {},
   "source": [
    "# 네이버 뉴스 데이터 가져오기\n",
    "\n",
    "> 1. 네이버 오픈 API로 기사 URL 크롤링\n",
    "> 2. bs4 + selenium으로 기사 제목 및 내용 크롤링"
   ]
  },
  {
   "cell_type": "markdown",
   "metadata": {},
   "source": [
    "# 크롬 브라우저가 뜨면 없애지 말고 있는 상태에서 코드 실행하기"
   ]
  },
  {
   "cell_type": "code",
   "execution_count": 45,
   "metadata": {},
   "outputs": [],
   "source": [
    "import os\n",
    "import sys\n",
    "import urllib.request\n",
    "import requests\n",
    "\n",
    "news_data = []\n",
    "page_count = 3\n",
    "\n",
    "client_id = \"GGc4QLn07KQawsbkTYOQ\"\n",
    "client_secret = \"JfYfWSHJVd\" # 발급받은 client_secret\n",
    "encText = urllib.parse.quote(\"파이썬\")\n",
    "\n",
    "for idx in range(page_count):\n",
    "    url = \"https://openapi.naver.com/v1/search/news?query=\" + encText + \"&start=\" + str(idx *10 + 1) # json 결과\n",
    "    # url = \"https://openapi.naver.com/v1/search/blog.xml?query=\" + encText # xml 결과\n",
    "\n",
    "\n",
    "    request = urllib.request.Request(url)\n",
    "    request.add_header(\"X-Naver-Client-Id\",client_id)\n",
    "    request.add_header(\"X-Naver-Client-Secret\",client_secret)\n",
    "    response = urllib.request.urlopen(request)\n",
    "    rescode = response.getcode()\n",
    "\n",
    "\n",
    "    if(rescode==200):\n",
    "    # 기존 네이버 도큐먼트\n",
    "    #    response_body = response.read()\n",
    "    #    print(response_body.decode('utf-8'))\n",
    "\n",
    "        # 기존에 제공하던 도큐먼트에서 수정한 부분 - 링크를 얻고 정보를 받아오기 위해 requests를 씀\n",
    "        # 우리는 정보를 저장하기 위해 이렇게 수정\n",
    "        result = requests.get(response.geturl(),\n",
    "                              headers={\"X-Naver-Client-Id\":client_id,\n",
    "                                       \"X-Naver-Client-Secret\":client_secret}\n",
    "                             )\n",
    "        news_data.append(result.json())\n",
    "\n",
    "    else:\n",
    "        print(\"Error Code:\" + rescode)"
   ]
  },
  {
   "cell_type": "markdown",
   "metadata": {},
   "source": [
    "### 네이버 OPEN API를 통해 가져온 데이터 확인하기."
   ]
  },
  {
   "cell_type": "code",
   "execution_count": 46,
   "metadata": {
    "scrolled": true
   },
   "outputs": [
    {
     "data": {
      "text/plain": [
       "[{'lastBuildDate': 'Wed, 10 Feb 2021 14:41:38 +0900',\n",
       "  'total': 9460,\n",
       "  'start': 1,\n",
       "  'display': 10,\n",
       "  'items': [{'title': '더조은컴퓨터학원 일산캠퍼스, 자바프로그래밍 SW개발 국비지원 전액무료취업...',\n",
       "    'originallink': 'http://www.it-b.co.kr/news/articleView.html?idxno=47331',\n",
       "    'link': 'http://www.it-b.co.kr/news/articleView.html?idxno=47331',\n",
       "    'description': '자바/<b>파이썬</b>활용 빅데이터개발과정까지 지속적인 성공적운영과 훈련생들의 높은 만족도를 이끌어 냈으며, 2021년 자바응용SW개발자양성 과정과 과정평가형(정보처리산업기사)를 추가 승인 받아 기존 디자인/영상... ',\n",
       "    'pubDate': 'Wed, 10 Feb 2021 09:45:00 +0900'},\n",
       "   {'title': '한국장학진흥원, 빅데이터전문가 및 코딩지도사 자격증 무료수강 이벤트 참여...',\n",
       "    'originallink': 'http://www.mrepublic.co.kr/news/articleView.html?idxno=63484',\n",
       "    'link': 'http://www.mrepublic.co.kr/news/articleView.html?idxno=63484',\n",
       "    'description': '프로그래밍 언어 <b>파이썬</b>과 웹크롤링, 데이터분석 교육 콘텐츠를 찾는 사람들에게 도움되는 다양한 콘텐츠도 만날 수 있다. 사고력을 길러주는 다양한 온라인 코딩지도사자격증 교육 프로그램은 어린이들을 위한... ',\n",
       "    'pubDate': 'Wed, 10 Feb 2021 00:02:00 +0900'},\n",
       "   {'title': \"'주린이'를 도와라... AI 투자 열풍, 국내 로보어드바이저 앱 5종 소개\",\n",
       "    'originallink': 'http://www.aitimes.com/news/articleView.html?idxno=136379',\n",
       "    'link': 'http://www.aitimes.com/news/articleView.html?idxno=136379',\n",
       "    'description': '현재 11만여명 회원이 라씨 서비스를 이용 중이다. AI타임스 장희수 기자 heehee2157@aitimes.com [관련 기사][블록체인 쿼바디스?]③암호화폐, 투자인가 투기인가? [관련 기사]자바 하락세, <b>파이썬</b> 역전승? 2021년 2월 TIOBE 지수',\n",
       "    'pubDate': 'Tue, 09 Feb 2021 18:28:00 +0900'},\n",
       "   {'title': \"aSSIST 경영대학원, 'AI 전략경영 MBA' 개설...원서접수 19일까지\",\n",
       "    'originallink': 'http://www.job-post.co.kr/news/articleView.html?idxno=16562',\n",
       "    'link': 'http://www.job-post.co.kr/news/articleView.html?idxno=16562',\n",
       "    'description': \"AI 부문은 AI 분석 도구(오렌지), AI 분석 도구(<b>파이썬</b>), AI와 딥러닝, AI와 강화 학습 과목으로 구성됐다. AI... 위한 <b>파이썬</b>' 저자) 등으로\\xa0구성됐다. AI 전략경영 MBA 과정의 2021학년도 봄 학기 원서접수 기간은 오는... \",\n",
       "    'pubDate': 'Tue, 09 Feb 2021 18:25:00 +0900'},\n",
       "   {'title': 'aSSIST, AI 기반 경영학 배우는 AI 전략경영 MBA 개설',\n",
       "    'originallink': 'http://www.cctvnews.co.kr/news/articleView.html?idxno=220432',\n",
       "    'link': 'http://www.cctvnews.co.kr/news/articleView.html?idxno=220432',\n",
       "    'description': \"먼저 AI 부문은 △AI 분석 도구(오렌지) △AI 분석 도구(<b>파이썬</b>) △AI와 딥러닝 △AI와 강화 학습으로... 위한 <b>파이썬</b>' 저자) 등이 참여한다. AI 전략경영 MBA는 주말에 진행되는 압축적인 커리큘럼을 통해 24학점을... \",\n",
       "    'pubDate': 'Tue, 09 Feb 2021 16:58:00 +0900'},\n",
       "   {'title': '자바 하락세, <b>파이썬</b> 역전승? 2021년 2월 TIOBE 지수',\n",
       "    'originallink': 'http://www.aitimes.com/news/articleView.html?idxno=136370',\n",
       "    'link': 'http://www.aitimes.com/news/articleView.html?idxno=136370',\n",
       "    'description': 'TIOBE는 &quot;<b>파이썬</b>의 급상승 추세를 제외하고 상위 8개 언어 순위간 큰 변화는 없었다&quot;면서 &quot;이는 JavaScript와 C++ 등\\xa0기존 프로그래밍 언어도 자주 업데이트 되기\\xa0때문&quot;이라고 해석했다. TIOBE 지수(TIOBE Index)... ',\n",
       "    'pubDate': 'Tue, 09 Feb 2021 15:03:00 +0900'},\n",
       "   {'title': \"aSSIST 경영대학원, AI 기반 'AI 전략경영 MBA 과정' 개설\",\n",
       "    'originallink': 'http://yna.kr/AKR20210209067800848?did=1195m',\n",
       "    'link': 'https://news.naver.com/main/read.nhn?mode=LSD&mid=sec&sid1=101&oid=001&aid=0012194044',\n",
       "    'description': \"AI 부문은 AI 분석 도구(오렌지)·AI 분석 도구(<b>파이썬</b>)·AI와 딥러닝·AI와 강화 학습으로 구성됐다. AI 전략... 위한 <b>파이썬</b>' 저자) 등이 참여한다. AI 전략경영 MBA 교육은 주말에만 진행하며 총 24학점을 1년 안에... \",\n",
       "    'pubDate': 'Tue, 09 Feb 2021 14:00:00 +0900'},\n",
       "   {'title': 'aSSIST, AI 기반 경영학 배우는 AI 전략경영 MBA 개설',\n",
       "    'originallink': 'http://www.veritas-a.com/news/articleView.html?idxno=356391',\n",
       "    'link': 'http://www.veritas-a.com/news/articleView.html?idxno=356391',\n",
       "    'description': \"먼저 AI 부문은 △AI 분석 도구(오렌지) △AI 분석 도구(<b>파이썬</b>) △AI와 딥러닝 △AI와 강화 학습으로... 위한 <b>파이썬</b>' 저자) 등이 참여한다. AI 전략경영 MBA는 주말에 진행되는 압축적인 커리큘럼을 통해 24학점을... \",\n",
       "    'pubDate': 'Tue, 09 Feb 2021 13:31:00 +0900'},\n",
       "   {'title': '[HotJobs 100] 비즈니스피플이 엄선한 오늘의 채용-2월9일',\n",
       "    'originallink': 'http://www.businesspost.co.kr/BP?command=article_view&num=216794',\n",
       "    'link': 'http://www.businesspost.co.kr/BP?command=article_view&num=216794',\n",
       "    'description': '데이터분석 관련 전공자로 7년 이상의 관련 경력을 보유하고 있으며 온라인커머스 분석 관련 경험과 SQL 및 <b>파이썬</b> 등 개발 역량을 보유하고 있어야 지원할 수 있다. 온라인커머스 근무 경력이 있거나 고객 데이터분석... ',\n",
       "    'pubDate': 'Tue, 09 Feb 2021 11:23:00 +0900'},\n",
       "   {'title': '컴퓨터학원 코리아IT아카데미, 설맞이 특별 이벤트 열어…&quot;혜택 담은 복주머니...',\n",
       "    'originallink': 'http://www.it-b.co.kr/news/articleView.html?idxno=47301',\n",
       "    'link': 'http://www.it-b.co.kr/news/articleView.html?idxno=47301',\n",
       "    'description': 'C#, <b>파이썬</b>학원강좌(Python), C언어기초, 코딩교육) △시스템(윈도우, 리눅스자격증) △데이터베이스, 빅데이터학원 사이언스(머신러닝, 딥러닝) △기타 자격증(CCNA자격증, CCNP자격증, CCIE, LPIC, MCSE, OCP) △프론트엔드... ',\n",
       "    'pubDate': 'Tue, 09 Feb 2021 11:08:00 +0900'}]},\n",
       " {'lastBuildDate': 'Wed, 10 Feb 2021 14:41:39 +0900',\n",
       "  'total': 9460,\n",
       "  'start': 11,\n",
       "  'display': 10,\n",
       "  'items': [{'title': \"'울산이노베이션스쿨' 운영주체 정보산업진흥원으로 변경\",\n",
       "    'originallink': 'http://www.ujeil.com/news/articleView.html?idxno=270334',\n",
       "    'link': 'http://www.ujeil.com/news/articleView.html?idxno=270334',\n",
       "    'description': '심화학습으로 수강생 상호 협업과 문제해결 능력을 배양하는 방식으로 운영되는 울산형 혁신 교육 플랫폼이다. 수업은 주로 엑셀과 <b>파이썬</b>, R 등 데이터 사이언스 분야로 이뤄져 있고, 지난해까지 3기 수료생을 배출했다.',\n",
       "    'pubDate': 'Mon, 08 Feb 2021 23:25:00 +0900'},\n",
       "   {'title': '데이터뱅크로 진화하는 농협은행',\n",
       "    'originallink': 'https://www.sedaily.com/NewsView/22IGBE8PLM',\n",
       "    'link': 'https://news.naver.com/main/read.nhn?mode=LSD&mid=sec&sid1=101&oid=011&aid=0003869027',\n",
       "    'description': '농협은행의 한 관계자는 “앞으로 R·<b>파이썬</b> 등 보다 고도화된 툴과 프로그래밍 언어도 사용할 수 있도록 인프라를 더 개선할 계획”이라고 말했다. 인적 교육도 꾸준히 진행 중이다. 농협은행은 올해까지 ‘데이터... ',\n",
       "    'pubDate': 'Mon, 08 Feb 2021 18:03:00 +0900'},\n",
       "   {'title': \"서큘러스, '인공지능 로봇 파이보 DIY 교육 키트' 펀딩\",\n",
       "    'originallink': 'http://www.irobotnews.com/news/articleView.html?idxno=23870',\n",
       "    'link': 'http://www.irobotnews.com/news/articleView.html?idxno=23870',\n",
       "    'description': '또한 <b>파이썬</b>(Python)과 비주얼 스튜디오 코드(Visual Studio Code)를 사용해 강의가 끝나고 나만의 스타일로 로봇을 확장할 수 있다. 파이보 DIY 교육 키트는 3월 19일까지 와디즈를 통해 펀딩이 진행된다. 서큘러스의 자체... ',\n",
       "    'pubDate': 'Mon, 08 Feb 2021 15:28:00 +0900'},\n",
       "   {'title': '데이터 기반 비즈니스 환경에 최적화된 솔루션을 제공한다',\n",
       "    'originallink': 'http://www.job-post.co.kr/news/articleView.html?idxno=16385',\n",
       "    'link': 'http://www.job-post.co.kr/news/articleView.html?idxno=16385',\n",
       "    'description': '텍스트 마이닝 with <b>파이썬</b>』, 『20대여, 퇴사하라』, 『1년 안에 AI 빅데이터 전문가 되는 법』, 『AI, 빅데이터로 부자의 지름길을 가자』를 출간한 그는 최근에는 『2030 남들과 다르게 살아라』는 저서를 썼으며, 실제로... ',\n",
       "    'pubDate': 'Mon, 08 Feb 2021 11:18:00 +0900'},\n",
       "   {'title': '[HotJobs 100] 비즈니스피플이 엄선한 오늘의 채용-2월8일',\n",
       "    'originallink': 'http://www.businesspost.co.kr/BP?command=article_view&num=216547',\n",
       "    'link': 'http://www.businesspost.co.kr/BP?command=article_view&num=216547',\n",
       "    'description': '산업공학, 전산, 통계학과 전공자와 R, <b>파이썬</b>(Python) 경험자는 우대한다. 접수기간은 15일 오후 11시까지다. ◆ 이지스자산운용, 감사지원팀 경력 채용 준법 및 내부감사 업무와 금융감독원, 국토교통부 등 관련 기관... ',\n",
       "    'pubDate': 'Mon, 08 Feb 2021 10:33:00 +0900'},\n",
       "   {'title': '조기 코딩교육 선두주자 ‘원더코드’, 서울권 영유아 어학원에 도입',\n",
       "    'originallink': 'http://www.segye.com/content/html/2021/02/08/20210208503464.html?OutUrl=naver',\n",
       "    'link': 'https://news.naver.com/main/read.nhn?mode=LSD&mid=sec&sid1=101&oid=022&aid=0003550511',\n",
       "    'description': '코딩 교육은 진입 장벽이 낮은 프로그래밍 언어인 <b>파이썬</b>(Python)을 채택했으며, Dash 로봇과 실생활에서 접할 수 있는 다양한 주제를 통해 자연스럽게 코딩을 익힐 수 있다. 원더코드 수업은 잠실 오픈랩 LAB에서... ',\n",
       "    'pubDate': 'Mon, 08 Feb 2021 09:32:00 +0900'},\n",
       "   {'title': 'ADI, 상태기반 모니터링(CbM) 개발 플랫폼 출시',\n",
       "    'originallink': 'http://www.industrynews.co.kr/news/articleView.html?idxno=41292',\n",
       "    'link': 'http://www.industrynews.co.kr/news/articleView.html?idxno=41292',\n",
       "    'description': 'MATLAB이나 <b>파이썬</b>(Python) 같은 대중적인 데이터 분석 툴로의 연결을 간소화한다. CN0549를 활용하면 실시간... 기타 <b>파이썬</b> 기반 툴 같이 알고리즘 개발을 위해 단계적 예제를 사용하는 대중적인 머신러닝 환경으로... ',\n",
       "    'pubDate': 'Mon, 08 Feb 2021 08:32:00 +0900'},\n",
       "   {'title': '한국장학진흥원, 빅데이터전문가 및 코딩지도사 자격증 취득 커리큘럼 무료수...',\n",
       "    'originallink': 'http://www.kgdm.co.kr/news/articleView.html?idxno=740501',\n",
       "    'link': 'http://www.kgdm.co.kr/news/articleView.html?idxno=740501',\n",
       "    'description': '프로그래밍 언어 <b>파이썬</b>과 웹크롤링, 데이터분석 교육 콘텐츠를 찾는 사람들에게 도움되는 다양한 콘텐츠도 만날 수 있다. 사고력을 길러주는 다양한 온라인 코딩지도사자격증 교육 프로그램은 어린이들을 위한... ',\n",
       "    'pubDate': 'Mon, 08 Feb 2021 00:02:00 +0900'},\n",
       "   {'title': \"ADI, 상태기반모니터링(CbM) 디자인 개발 플랫폼 'CN0549' 발표\",\n",
       "    'originallink': 'https://www.itbiznews.com/news/articleView.html?idxno=29485',\n",
       "    'link': 'https://www.itbiznews.com/news/articleView.html?idxno=29485',\n",
       "    'description': '오픈소스SW 인터페이스를 지원하는 점이 특징으로, 특히 임베디드시스템에서 매트랩(MATLAB)이나 <b>파이썬</b>(Python)과 같은 대중적인 데이터 분석 툴도 활용할 수 있다. 기존의 압전 IEPE 표준인터페이스와 호환되는... ',\n",
       "    'pubDate': 'Sat, 06 Feb 2021 14:03:00 +0900'},\n",
       "   {'title': 'ADI, 상태기반 모니터링 개발 플랫폼 출시',\n",
       "    'originallink': 'http://www.technoa.co.kr/news/articleView.html?idxno=91747',\n",
       "    'link': 'http://www.technoa.co.kr/news/articleView.html?idxno=91747',\n",
       "    'description': '이 개발 플랫폼은 오픈소스 소프트웨어 인터페이스를 지원하여, 임베디드 시스템에서 예컨대 MATLAB이나 <b>파이썬</b> 같은 대중적인 데이터 분석 툴로의 연결을 간소화한다. CN0549를 활용하면 실시간 진동 데이터 처리가... ',\n",
       "    'pubDate': 'Fri, 05 Feb 2021 17:58:00 +0900'}]},\n",
       " {'lastBuildDate': 'Wed, 10 Feb 2021 14:41:39 +0900',\n",
       "  'total': 9460,\n",
       "  'start': 21,\n",
       "  'display': 10,\n",
       "  'items': [{'title': \"ADI, 상태기반 모니터링 개발 플랫폼 'CN0549' 출시\",\n",
       "    'originallink': 'http://www.epnc.co.kr/news/articleView.html?idxno=200656',\n",
       "    'link': 'http://www.epnc.co.kr/news/articleView.html?idxno=200656',\n",
       "    'description': '또한, 오픈소스 소프트웨어(OSS) 연결장치를 지원해 임베디드 시스템에서 매트랩(MATLAB) 또는 <b>파이썬</b>(Python) 등의 데이터 분석 툴로 빠르게 연결시킨다. 실시간 진동 데이터 처리도 가능해 머신러닝 환경으로... ',\n",
       "    'pubDate': 'Fri, 05 Feb 2021 17:05:00 +0900'},\n",
       "   {'title': \"디모아-대전대, '인텐시브 PBL 프로그램' 성료\",\n",
       "    'originallink': 'http://www.newspim.com/news/view/20210205000877',\n",
       "    'link': 'http://www.newspim.com/news/view/20210205000877',\n",
       "    'description': '학생들은 이번 수업을 통해 헬스케어 플랫폼 구축에 필요한 <b>파이썬</b>(Python)의 기초 문법부터 데이터 분석,\\xa0시각화 도구까지\\xa0MS의 개발 서비스들을 활용했으며 전문가의 지도를 받아 실무에 적용 가능한 빅데이터... ',\n",
       "    'pubDate': 'Fri, 05 Feb 2021 16:06:00 +0900'},\n",
       "   {'title': 'ADI, 상태 기반 모니터링 개발 플랫폼 출시',\n",
       "    'originallink': 'http://www.it-b.co.kr/news/articleView.html?idxno=47229',\n",
       "    'link': 'http://www.it-b.co.kr/news/articleView.html?idxno=47229',\n",
       "    'description': '이 개발 플랫폼은 오픈소스 소프트웨어 인터페이스를 지원하여, 임베디드 시스템에서 예컨대 MATLAB이나 <b>파이썬</b>(Python) 같은 대중적인 데이터 분석 툴로의 연결을 간소화한다. CN0549를 활용하면 실시간 진동 데이터... ',\n",
       "    'pubDate': 'Fri, 05 Feb 2021 14:54:00 +0900'},\n",
       "   {'title': 'ADI, 상태 기반 모니터링 개발 플랫폼 출시',\n",
       "    'originallink': 'http://www.cctvnews.co.kr/news/articleView.html?idxno=220127',\n",
       "    'link': 'http://www.cctvnews.co.kr/news/articleView.html?idxno=220127',\n",
       "    'description': '이 개발 플랫폼은 오픈소스 소프트웨어 인터페이스를 지원해 임베디드 시스템에서 예컨대 MATLAB®이나 <b>파이썬</b>(Python) 같은 대중적인 데이터 분석 툴로의 연결을 간소화한다. CN0549를 활용하면 실시간 진동 데이터... ',\n",
       "    'pubDate': 'Fri, 05 Feb 2021 14:30:00 +0900'},\n",
       "   {'title': 'ADI, 알고리즘 개발 속도 높이는 상태기반 모니터링 개발 플랫폼 출시',\n",
       "    'originallink': 'http://www.hellot.net/new_hellot/magazine/magazine_read.html?code=202&sub=004&idx=56552',\n",
       "    'link': 'http://www.hellot.net/new_hellot/magazine/magazine_read.html?code=202&sub=004&idx=56552',\n",
       "    'description': '이 개발 플랫폼은 오픈소스 소프트웨어 인터페이스를 지원해 임베디드 시스템에서 예컨대 MATLAB이나 <b>파이썬</b> 같은 대중적인 데이터 분석 툴로의 연결을 간소화한다. CN0549를 활용하면, 실시간 진동 데이터 처리가... ',\n",
       "    'pubDate': 'Fri, 05 Feb 2021 14:13:00 +0900'},\n",
       "   {'title': \"성균관대학교, '머신러닝과 사회과학적 상상력' 제1회 소셜이노베이션 취·창...\",\n",
       "    'originallink': 'http://www.lecturernews.com/news/articleView.html?idxno=60727',\n",
       "    'link': 'http://www.lecturernews.com/news/articleView.html?idxno=60727',\n",
       "    'description': '이번 비교과 프로그램은 머신러닝, 빅데이터 연구방법론을 적용한 혁신적인 연구를 소개하고, 이러한 연구를 실제 <b>파이썬</b>을 통해 어떻게 구현할 수 있는지를 보여주는 참신하고 실용적인 교육기회가 될 것이다.... ',\n",
       "    'pubDate': 'Fri, 05 Feb 2021 13:30:00 +0900'},\n",
       "   {'title': 'ADI, 상태기반 모니터링(CbM) 개발 플랫폼 출시',\n",
       "    'originallink': 'http://www.nextdaily.co.kr/news/article.html?id=20210205800018',\n",
       "    'link': 'http://www.nextdaily.co.kr/news/article.html?id=20210205800018',\n",
       "    'description': '이 개발 플랫폼은 오픈소스 소프트웨어 인터페이스를 지원하여, 임베디드 시스템에서 MATLAB이나 <b>파이썬</b>... 진동 데이터는 매트랩, 텐서플로우, 기타 <b>파이썬</b> 기반 툴 같이 알고리즘 개발을 위해 단계적 예제를 사용하는... ',\n",
       "    'pubDate': 'Fri, 05 Feb 2021 12:43:00 +0900'},\n",
       "   {'title': '2021학년도 강남서초 수시 합격생 인터뷰 : 서울대 자유전공학부 윤수민 학생...',\n",
       "    'originallink': 'http://www.naeil.com/news_view/?id_art=376085',\n",
       "    'link': 'http://www.naeil.com/news_view/?id_art=376085',\n",
       "    'description': '2차원 평면상에 분포하는 어떤 집단의 평균을 추정하는 알고리즘을 친구들에게 보여주고자 그 내용을 <b>파이썬</b>(Python)으로 프로그래밍해 발표하기도 했죠.” 사례③ 미적분 → 회귀 분석 알고리즘 → 이계도함수 도입... ',\n",
       "    'pubDate': 'Fri, 05 Feb 2021 12:00:00 +0900'},\n",
       "   {'title': '디모아-대전대, ‘인텐시브 PBL 프로그램’ 성료',\n",
       "    'originallink': 'http://www.fnnews.com/news/202102051112476632',\n",
       "    'link': 'https://news.naver.com/main/read.nhn?mode=LSD&mid=sec&sid1=105&oid=014&aid=0004579584',\n",
       "    'description': '학생들은 이번 수업을 통해 헬스케어 플랫폼 구축에 필요한 <b>파이썬</b>의 기초 문법부터 데이터 분석, 시각화 도구까지 MS의 개발 서비스들을 활용했으며 전문가의 지도를 받아 실무에 적용 가능한 빅데이터 기반 헬스케어... ',\n",
       "    'pubDate': 'Fri, 05 Feb 2021 11:15:00 +0900'},\n",
       "   {'title': \"디모아·대전대, '인텐시브 PBL 프로그램' 성료\",\n",
       "    'originallink': 'http://www.datanet.co.kr/news/articleView.html?idxno=155891',\n",
       "    'link': 'http://www.datanet.co.kr/news/articleView.html?idxno=155891',\n",
       "    'description': '학생들은 이번 수업을 통해 헬스케어 플랫폼 구축에 필요한 <b>파이썬</b>(Python)의 기초 문법부터 데이터 분석, 시각화 도구까지 마이크로소프트의 개발 서비스들을 활용했으며 전문가의 지도를 받아 실무에 적용 가능한... ',\n",
       "    'pubDate': 'Fri, 05 Feb 2021 11:03:00 +0900'}]}]"
      ]
     },
     "execution_count": 46,
     "metadata": {},
     "output_type": "execute_result"
    }
   ],
   "source": [
    "news_data"
   ]
  },
  {
   "cell_type": "code",
   "execution_count": 47,
   "metadata": {},
   "outputs": [
    {
     "name": "stdout",
     "output_type": "stream",
     "text": [
      "http://www.it-b.co.kr/news/articleView.html?idxno=47331\n"
     ]
    }
   ],
   "source": [
    "print(news_data[0]['items'][0]['link'])"
   ]
  },
  {
   "cell_type": "code",
   "execution_count": 48,
   "metadata": {},
   "outputs": [
    {
     "data": {
      "text/plain": [
       "3"
      ]
     },
     "execution_count": 48,
     "metadata": {},
     "output_type": "execute_result"
    }
   ],
   "source": [
    "# 페이지 하나당 리스트로 묶여서 들고옴\n",
    "# request.Request(url) 는 한 번에 묶어서 들고오는 것임\n",
    "\n",
    "len(news_data)"
   ]
  },
  {
   "cell_type": "markdown",
   "metadata": {},
   "source": [
    "### 가져온 URL이 네이버 뉴스인지 확인하기."
   ]
  },
  {
   "cell_type": "code",
   "execution_count": 49,
   "metadata": {},
   "outputs": [
    {
     "name": "stdout",
     "output_type": "stream",
     "text": [
      "3\n"
     ]
    }
   ],
   "source": [
    "naver_news_link = []\n",
    "\n",
    "for page in news_data:\n",
    "    \n",
    "    page_news_link = []\n",
    "\n",
    "    for item in page['items']:\n",
    "        link = item['link']\n",
    "        if \"naver\" in link:\n",
    "            page_news_link.append(link)\n",
    "            \n",
    "    naver_news_link.append(page_news_link)\n",
    "\n",
    "print(len(naver_news_link))"
   ]
  },
  {
   "cell_type": "code",
   "execution_count": 50,
   "metadata": {},
   "outputs": [
    {
     "data": {
      "text/plain": [
       "[['https://news.naver.com/main/read.nhn?mode=LSD&mid=sec&sid1=101&oid=001&aid=0012194044'],\n",
       " ['https://news.naver.com/main/read.nhn?mode=LSD&mid=sec&sid1=101&oid=011&aid=0003869027',\n",
       "  'https://news.naver.com/main/read.nhn?mode=LSD&mid=sec&sid1=101&oid=022&aid=0003550511'],\n",
       " ['https://news.naver.com/main/read.nhn?mode=LSD&mid=sec&sid1=105&oid=014&aid=0004579584']]"
      ]
     },
     "execution_count": 50,
     "metadata": {},
     "output_type": "execute_result"
    }
   ],
   "source": [
    "# 한 페이지 당 네이버 뉴스가 1개 / 2개 / 1개 있음\n",
    "\n",
    "naver_news_link"
   ]
  },
  {
   "cell_type": "code",
   "execution_count": 51,
   "metadata": {},
   "outputs": [
    {
     "name": "stdout",
     "output_type": "stream",
     "text": [
      "https://news.naver.com/main/read.nhn?mode=LSD&mid=sec&sid1=101&oid=001&aid=0012194044\n",
      "https://news.naver.com/main/read.nhn?mode=LSD&mid=sec&sid1=101&oid=011&aid=0003869027\n",
      "https://news.naver.com/main/read.nhn?mode=LSD&mid=sec&sid1=101&oid=022&aid=0003550511\n",
      "https://news.naver.com/main/read.nhn?mode=LSD&mid=sec&sid1=105&oid=014&aid=0004579584\n"
     ]
    }
   ],
   "source": [
    "# 페이지 당 몇개의 링크가 있는지 확인\n",
    "\n",
    "for page in naver_news_link:\n",
    "    for link in page:\n",
    "        print(link)"
   ]
  },
  {
   "cell_type": "markdown",
   "metadata": {},
   "source": [
    "### 네이버 뉴스 기사 크롤링!"
   ]
  },
  {
   "cell_type": "code",
   "execution_count": 52,
   "metadata": {},
   "outputs": [],
   "source": [
    "import pandas as pd\n",
    "import numpy as np\n",
    "from selenium import webdriver\n",
    "from tqdm import notebook\n",
    "import requests\n",
    "import pickle\n",
    "import re\n",
    "import ast\n",
    "\n",
    "from bs4 import BeautifulSoup \n",
    "from urllib.request import urlopen\n",
    "import urllib\n",
    "import time"
   ]
  },
  {
   "cell_type": "code",
   "execution_count": 53,
   "metadata": {},
   "outputs": [],
   "source": [
    "# 가상 크롬드라이버를 불러옴.\n",
    "# 윈도우 10의 경우 chromedriver.exe\n",
    "driver = webdriver.Chrome(\"driver/chromedriver.exe\")"
   ]
  },
  {
   "cell_type": "markdown",
   "metadata": {},
   "source": [
    "- 웹 크롤링 코드\n",
    "- 이차원 구조로 만들어주면 편함!"
   ]
  },
  {
   "cell_type": "code",
   "execution_count": 54,
   "metadata": {},
   "outputs": [
    {
     "data": {
      "application/vnd.jupyter.widget-view+json": {
       "model_id": "7fb99796ee6e4d9c828d489e7ca65de9",
       "version_major": 2,
       "version_minor": 0
      },
      "text/plain": [
       "HBox(children=(FloatProgress(value=0.0, max=3.0), HTML(value='')))"
      ]
     },
     "metadata": {},
     "output_type": "display_data"
    },
    {
     "data": {
      "application/vnd.jupyter.widget-view+json": {
       "model_id": "a345a6934d1545328b5698b59e669477",
       "version_major": 2,
       "version_minor": 0
      },
      "text/plain": [
       "HBox(children=(FloatProgress(value=0.0, max=1.0), HTML(value='')))"
      ]
     },
     "metadata": {},
     "output_type": "display_data"
    },
    {
     "name": "stdout",
     "output_type": "stream",
     "text": [
      "https://news.naver.com/main/read.nhn?mode=LSD&mid=sec&sid1=101&oid=001&aid=0012194044\n",
      "\n"
     ]
    },
    {
     "data": {
      "application/vnd.jupyter.widget-view+json": {
       "model_id": "8b3b9e8453b94c3eb66f8892a3e9be2b",
       "version_major": 2,
       "version_minor": 0
      },
      "text/plain": [
       "HBox(children=(FloatProgress(value=0.0, max=2.0), HTML(value='')))"
      ]
     },
     "metadata": {},
     "output_type": "display_data"
    },
    {
     "name": "stdout",
     "output_type": "stream",
     "text": [
      "https://news.naver.com/main/read.nhn?mode=LSD&mid=sec&sid1=101&oid=011&aid=0003869027\n",
      "https://news.naver.com/main/read.nhn?mode=LSD&mid=sec&sid1=101&oid=022&aid=0003550511\n",
      "\n"
     ]
    },
    {
     "data": {
      "application/vnd.jupyter.widget-view+json": {
       "model_id": "4168900c43d544d78df39858c51f9ecb",
       "version_major": 2,
       "version_minor": 0
      },
      "text/plain": [
       "HBox(children=(FloatProgress(value=0.0, max=1.0), HTML(value='')))"
      ]
     },
     "metadata": {},
     "output_type": "display_data"
    },
    {
     "name": "stdout",
     "output_type": "stream",
     "text": [
      "https://news.naver.com/main/read.nhn?mode=LSD&mid=sec&sid1=105&oid=014&aid=0004579584\n",
      "\n",
      "\n",
      "[\"aSSIST 경영대학원, AI 기반 'AI 전략경영 MBA 과정' 개설\"]\n",
      "==================================\n",
      "['   본문 내용     TV플레이어     // TV플레이어     // flash 오류를 우회하기 위한 함수 추가 function _flash_removeCallback() {}    ▲ aSSIST 경영대학원(서울과학종합대학원)은 인공지능(AI) 전략경영 경영학석사(MBA) 과정을 개설했다고 9일 밝혔다.     이 과정은 AI의 핵심 원리와 경영 현장에 적용할 수 있는 전략을 교육하며 실제 기업별 AI 활용 및 응용 전략을 끌어내는 것을 목표로 한다. 최신 교과목으로 소프트웨어 비전공 기업 실무자도 쉽게 AI 원리를 익히고 현장에서 AI를 적용하도록 설계됐다.     커리큘럼은 AI, AI 전략, AI 경영학 3가지 분야로 나뉜다.     AI 부문은 AI 분석 도구(오렌지)·AI 분석 도구(파이썬)·AI와 딥러닝·AI와 강화 학습으로 구성됐다.     AI 전략 부문은 AI 기반 전략 프로세스·AI 기반 전략 대안·AI 기반 전략 워크숍·AI 기반 전략 세미나(메커니즘 경영)·AI 기반 전략 세미나(지속 경영·ESG) 등의 과목으로 돼 있다.     AI 경영학 부문은 AI 기반 마케팅·AI 기반 회계학·AI 기반 재무관리·AI 기반 생산관리·AI 기반 인사 조직으로 이뤄져 있다.     주요 교수로 조동성·문휘창 서울대 명예교수, 김문수 aSSIST 경영대학원 부총장, 김성민·김보영·문달주 aSSIST 교수, 홍성인 교수(\\'문과생을 위한 파이썬\\' 저자) 등이 참여한다.     AI 전략경영 MBA 교육은 주말에만 진행하며 총 24학점을 1년 안에 취득할 수 있도록 설계됐다.     김문수 부총장은 \"기업 경영자, 실무자들이 AI 개념과 적용 원리를 손쉽게 학습해 실제 비즈니스 성과를 창출할 수 있도록 AI 경영 전문가들을 양성하겠다\"고 말했다.     이 과정의 봄 학기 원서 접수 기간은 오는 19일까지며 aSSIST 경영대학원 홈페이지에서 할 수 있다. (연합뉴스) ▶네이버에서도 뉴스는 연합뉴스[구독 클릭] ▶[팩트체크]은마아파트 2천300t 생활폐기물 누구 책임? ▶제보하기 <저작권자(c) 연합뉴스(https://www.yna.co.kr/), 무단 전재-재배포 금지> \\t  // 본문 내용   ']\n"
     ]
    }
   ],
   "source": [
    "naver_news_title = []\n",
    "naver_news_content = []\n",
    "\n",
    "\n",
    "for n in notebook.tqdm(range(len(naver_news_link))):\n",
    "    #print(n)\n",
    "    news_page_title = []\n",
    "    news_page_content = []\n",
    "    \n",
    "    for idx in notebook.tqdm(range(len(naver_news_link[n]))):\n",
    "        \n",
    "        \n",
    "    ########### 긁어온 URL로 접속하기 ############    \n",
    "        try:\n",
    "            driver.get(naver_news_link[n][idx])\n",
    "            print(naver_news_link[n][idx])\n",
    "            \n",
    "        except:\n",
    "            print(\"Timeout!\")\n",
    "            continue\n",
    "        \n",
    "        \n",
    "        try:\n",
    "            response = driver.page_source\n",
    "            \n",
    "        except UnexpectedAlertPresentException:\n",
    "            driver.switch_to_alert().accept()\n",
    "            print(\"게시글이 삭제된 경우입니다.\")\n",
    "            continue\n",
    "        \n",
    "        soup = BeautifulSoup(response, \"html.parser\")\n",
    "        \n",
    "        ###### 뉴스 타이틀 긁어오기 ######\n",
    "        \n",
    "        title = None\n",
    "        \n",
    "        try:\n",
    "            item = soup.find('div', class_=\"article_info\")\n",
    "            title = item.find('h3', class_=\"tts_head\").get_text()\n",
    "            #print(title)\n",
    "\n",
    "        except:\n",
    "            title = \"OUTLINK\"\n",
    "        \n",
    "        #print(title)\n",
    "        news_page_title.append(title)\n",
    "        \n",
    "        \n",
    "        ###### 뉴스 본문 긁어오기 ######\n",
    "        \n",
    "        doc = None\n",
    "        text = \"\"\n",
    "                \n",
    "        data = soup.find_all(\"div\", {\"class\" : \"_article_body_contents\"})\n",
    "        if data:\n",
    "            for item in data:\n",
    "\n",
    "                text = text + str(item.find_all(text=True)).strip()\n",
    "                text = ast.literal_eval(text) # 타입을 string으로 바꾸기 위해 # 안정적인 함수\n",
    "                doc = ' '.join(text)\n",
    "   \n",
    "        else:\n",
    "            doc = \"OUTLINK\"\n",
    "            \n",
    "        news_page_content.append(doc.replace('\\n', ' '))\n",
    "\n",
    "                \n",
    "    naver_news_title.append(news_page_title)\n",
    "    naver_news_content.append(news_page_content)\n",
    "\n",
    "    time.sleep(2)\n",
    "    \n",
    "    \n",
    "print(naver_news_title[0])\n",
    "print(\"==================================\")\n",
    "print(naver_news_content[0])"
   ]
  },
  {
   "cell_type": "markdown",
   "metadata": {},
   "source": [
    "### 크롤링 결과 확인하기."
   ]
  },
  {
   "cell_type": "code",
   "execution_count": 55,
   "metadata": {},
   "outputs": [
    {
     "name": "stdout",
     "output_type": "stream",
     "text": [
      "[\"aSSIST 경영대학원, AI 기반 'AI 전략경영 MBA 과정' 개설\"]\n"
     ]
    }
   ],
   "source": [
    "print(naver_news_title[0])"
   ]
  },
  {
   "cell_type": "code",
   "execution_count": 56,
   "metadata": {},
   "outputs": [
    {
     "name": "stdout",
     "output_type": "stream",
     "text": [
      "['   본문 내용     TV플레이어     // TV플레이어     // flash 오류를 우회하기 위한 함수 추가 function _flash_removeCallback() {}    ▲ aSSIST 경영대학원(서울과학종합대학원)은 인공지능(AI) 전략경영 경영학석사(MBA) 과정을 개설했다고 9일 밝혔다.     이 과정은 AI의 핵심 원리와 경영 현장에 적용할 수 있는 전략을 교육하며 실제 기업별 AI 활용 및 응용 전략을 끌어내는 것을 목표로 한다. 최신 교과목으로 소프트웨어 비전공 기업 실무자도 쉽게 AI 원리를 익히고 현장에서 AI를 적용하도록 설계됐다.     커리큘럼은 AI, AI 전략, AI 경영학 3가지 분야로 나뉜다.     AI 부문은 AI 분석 도구(오렌지)·AI 분석 도구(파이썬)·AI와 딥러닝·AI와 강화 학습으로 구성됐다.     AI 전략 부문은 AI 기반 전략 프로세스·AI 기반 전략 대안·AI 기반 전략 워크숍·AI 기반 전략 세미나(메커니즘 경영)·AI 기반 전략 세미나(지속 경영·ESG) 등의 과목으로 돼 있다.     AI 경영학 부문은 AI 기반 마케팅·AI 기반 회계학·AI 기반 재무관리·AI 기반 생산관리·AI 기반 인사 조직으로 이뤄져 있다.     주요 교수로 조동성·문휘창 서울대 명예교수, 김문수 aSSIST 경영대학원 부총장, 김성민·김보영·문달주 aSSIST 교수, 홍성인 교수(\\'문과생을 위한 파이썬\\' 저자) 등이 참여한다.     AI 전략경영 MBA 교육은 주말에만 진행하며 총 24학점을 1년 안에 취득할 수 있도록 설계됐다.     김문수 부총장은 \"기업 경영자, 실무자들이 AI 개념과 적용 원리를 손쉽게 학습해 실제 비즈니스 성과를 창출할 수 있도록 AI 경영 전문가들을 양성하겠다\"고 말했다.     이 과정의 봄 학기 원서 접수 기간은 오는 19일까지며 aSSIST 경영대학원 홈페이지에서 할 수 있다. (연합뉴스) ▶네이버에서도 뉴스는 연합뉴스[구독 클릭] ▶[팩트체크]은마아파트 2천300t 생활폐기물 누구 책임? ▶제보하기 <저작권자(c) 연합뉴스(https://www.yna.co.kr/), 무단 전재-재배포 금지> \\t  // 본문 내용   ']\n"
     ]
    }
   ],
   "source": [
    "print(naver_news_content[0])"
   ]
  },
  {
   "cell_type": "code",
   "execution_count": 57,
   "metadata": {},
   "outputs": [
    {
     "name": "stdout",
     "output_type": "stream",
     "text": [
      "1\n",
      "1\n"
     ]
    }
   ],
   "source": [
    "print(len(naver_news_title[0]))\n",
    "print(len(naver_news_content[0]))"
   ]
  },
  {
   "cell_type": "markdown",
   "metadata": {},
   "source": [
    "### 크롤링 결과 저장하기."
   ]
  },
  {
   "cell_type": "code",
   "execution_count": 58,
   "metadata": {},
   "outputs": [],
   "source": [
    "with open(\"naver_news_title.pk\", \"wb\") as f:\n",
    "    pickle.dump(naver_news_title, f)\n",
    "\n",
    "with open(\"naver_news_content.pk\", \"wb\") as f:\n",
    "    pickle.dump(naver_news_content, f)"
   ]
  }
 ],
 "metadata": {
  "kernelspec": {
   "display_name": "Python 3",
   "language": "python",
   "name": "python3"
  },
  "language_info": {
   "codemirror_mode": {
    "name": "ipython",
    "version": 3
   },
   "file_extension": ".py",
   "mimetype": "text/x-python",
   "name": "python",
   "nbconvert_exporter": "python",
   "pygments_lexer": "ipython3",
   "version": "3.7.6"
  }
 },
 "nbformat": 4,
 "nbformat_minor": 2
}
